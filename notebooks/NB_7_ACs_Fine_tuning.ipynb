{
 "cells": [
  {
   "cell_type": "raw",
   "id": "ecb309f7",
   "metadata": {},
   "source": [
    "---\n",
    "title: 'Predicting Belgian Real Estate Prices: Part 4: Fine-tuning our model'\n",
    "author: Adam Cseresznye\n",
    "date: '2023-09-17'\n",
    "categories:\n",
    "  - Predicting Belgian Real Estate Prices \n",
    "jupyter: python3\n",
    "toc: true\n",
    "format:\n",
    "  html:\n",
    "    code-fold: true\n",
    "    code-tools: true\n",
    "---"
   ]
  },
  {
   "cell_type": "markdown",
   "id": "aab5a692-e95d-4785-8d85-ed1cc10b4056",
   "metadata": {
    "tags": []
   },
   "source": [
    "![Photo by Stephen Phillips - Hostreviews.co.uk on UnSplash](https://cf.bstatic.com/xdata/images/hotel/max1024x768/408003083.jpg?k=c49b5c4a2346b3ab002b9d1b22dbfb596cee523b53abef2550d0c92d0faf2d8b&o=&hp=1){fig-align=\"center\" width=50%}\n"
   ]
  },
  {
   "cell_type": "markdown",
   "id": "7af189aa",
   "metadata": {},
   "source": [
    "# Import data"
   ]
  },
  {
   "cell_type": "code",
   "execution_count": 1,
   "id": "cc3c6a54-530c-4491-bb08-3dfc054d78a6",
   "metadata": {
    "editable": true,
    "slideshow": {
     "slide_type": ""
    },
    "tags": []
   },
   "outputs": [
    {
     "name": "stderr",
     "output_type": "stream",
     "text": [
      "Using `tqdm.autonotebook.tqdm` in notebook mode. Use `tqdm.tqdm` instead to force console mode (e.g. in jupyter console)\n"
     ]
    },
    {
     "data": {
      "text/html": [
       "\n",
       "            <div id=\"EYYQPi\"></div>\n",
       "            <script type=\"text/javascript\" data-lets-plot-script=\"library\">\n",
       "                if(!window.letsPlotCallQueue) {\n",
       "                    window.letsPlotCallQueue = [];\n",
       "                }; \n",
       "                window.letsPlotCall = function(f) {\n",
       "                    window.letsPlotCallQueue.push(f);\n",
       "                };\n",
       "                (function() {\n",
       "                    var script = document.createElement(\"script\");\n",
       "                    script.type = \"text/javascript\";\n",
       "                    script.src = \"https://cdn.jsdelivr.net/gh/JetBrains/lets-plot@v4.0.1/js-package/distr/lets-plot.min.js\";\n",
       "                    script.onload = function() {\n",
       "                        window.letsPlotCall = function(f) {f();};\n",
       "                        window.letsPlotCallQueue.forEach(function(f) {f();});\n",
       "                        window.letsPlotCallQueue = [];\n",
       "                        \n",
       "                    };\n",
       "                    script.onerror = function(event) {\n",
       "                        window.letsPlotCall = function(f) {};    // noop\n",
       "                        window.letsPlotCallQueue = [];\n",
       "                        var div = document.createElement(\"div\");\n",
       "                        div.style.color = 'darkred';\n",
       "                        div.textContent = 'Error loading Lets-Plot JS';\n",
       "                        document.getElementById(\"EYYQPi\").appendChild(div);\n",
       "                    };\n",
       "                    var e = document.getElementById(\"EYYQPi\");\n",
       "                    e.appendChild(script);\n",
       "                })()\n",
       "            </script>\n",
       "            "
      ]
     },
     "metadata": {},
     "output_type": "display_data"
    }
   ],
   "source": [
    "import gc\n",
    "import os\n",
    "from pathlib import Path\n",
    "from typing import List, Optional, Tuple\n",
    "\n",
    "import catboost\n",
    "import matplotlib.pyplot as plt\n",
    "import numpy as np\n",
    "import pandas as pd\n",
    "from data import pre_process, utils\n",
    "from features import feature_engineering\n",
    "from IPython.display import clear_output\n",
    "from lets_plot import *\n",
    "from lets_plot.mapping import as_discrete\n",
    "from models import train_model\n",
    "from sklearn import (\n",
    "    cluster,\n",
    "    compose,\n",
    "    ensemble,\n",
    "    impute,\n",
    "    metrics,\n",
    "    model_selection,\n",
    "    neighbors,\n",
    "    pipeline,\n",
    "    preprocessing,\n",
    ")\n",
    "from tqdm.notebook import tqdm\n",
    "\n",
    "LetsPlot.setup_html()\n",
    "import pickle\n",
    "\n",
    "import optuna"
   ]
  },
  {
   "cell_type": "markdown",
   "id": "8194fbe9-cd5c-4724-b219-b17d11850955",
   "metadata": {},
   "source": [
    "**Objective**:\n",
    "* Examine the necessary sample pre-processing steps before modeling\n",
    "* Create the required pipeline\n",
    "* \n",
    "Evaluate multiple algoritms\n",
    "* \r\n",
    "Choose a suitable baseli modell.\r\n",
    "\r\n",
    "\r\n",
    "\r\n"
   ]
  },
  {
   "cell_type": "markdown",
   "id": "86846c91-1d46-4c2e-8fb2-72f5c5b8e8fd",
   "metadata": {},
   "source": [
    "# Prepare dataframe before modelling\n"
   ]
  },
  {
   "cell_type": "code",
   "execution_count": 2,
   "id": "238557b9-5614-470c-a654-24a87300eef1",
   "metadata": {},
   "outputs": [
    {
     "name": "stdout",
     "output_type": "stream",
     "text": [
      "Shape of X and y with outliers: (3660, 14), (3660,)\n",
      "Shape of X and y without outliers: (3427, 14), (3427,)\n"
     ]
    }
   ],
   "source": [
    "df = pd.read_parquet(\n",
    "    utils.Configuration.INTERIM_DATA_PATH.joinpath(\n",
    "        \"2023-10-01_Processed_dataset_for_NB_use.parquet.gzip\"\n",
    "    )\n",
    ")\n",
    "\n",
    "X, y = pre_process.prepare_data_for_modelling(df)"
   ]
  },
  {
   "cell_type": "code",
   "execution_count": 3,
   "id": "9fc7f748-f9af-463e-85f3-82dca4029cdb",
   "metadata": {},
   "outputs": [],
   "source": [
    "def dumper(file, name):\n",
    "    pickle.dump(file, open(f\"{name}.pickle\", \"wb\"))"
   ]
  },
  {
   "cell_type": "code",
   "execution_count": 4,
   "id": "da415f11-f41b-47f6-b1dc-b29827061363",
   "metadata": {},
   "outputs": [],
   "source": [
    "def objective(trial: optuna.Trial) -> float:\n",
    "    \"\"\"\n",
    "    Optuna objective function for tuning CatBoost hyperparameters.\n",
    "\n",
    "    This function takes an Optuna trial and explores hyperparameters for a CatBoost\n",
    "    model to minimize the Root Mean Squared Error (RMSE) using K-Fold cross-validation.\n",
    "\n",
    "    Parameters:\n",
    "    - trial (optuna.Trial): Optuna trial object for hyperparameter optimization.\n",
    "\n",
    "    Returns:\n",
    "    - float: Mean RMSE across K-Fold cross-validation iterations.\n",
    "\n",
    "    Example use case:\n",
    "    ```python\n",
    "    # Create an Optuna study and optimize hyperparameters\n",
    "    study = optuna.create_study(direction=\"minimize\")\n",
    "    study.optimize(objective, n_trials=100)\n",
    "\n",
    "    # Get the best hyperparameters\n",
    "    best_params = study.best_params\n",
    "    ```\n",
    "    \"\"\"\n",
    "    catboost_params = {\n",
    "        \"iterations\": trial.suggest_int(\"iterations\", 10, 1000),\n",
    "        \"depth\": trial.suggest_int(\"depth\", 1, 8),\n",
    "        \"learning_rate\": trial.suggest_float(\"learning_rate\", 0.01, 1),\n",
    "        \"random_strength\": trial.suggest_float(\"random_strength\", 1e-9, 10),\n",
    "        \"bagging_temperature\": trial.suggest_float(\"bagging_temperature\", 0, 1),\n",
    "        \"l2_leaf_reg\": trial.suggest_int(\"l2_leaf_reg\", 2, 30),\n",
    "        \"border_count\": trial.suggest_int(\"border_count\", 1, 255),\n",
    "        \"thread_count\": os.cpu_count(),\n",
    "    }\n",
    "\n",
    "    results = []\n",
    "    optuna.logging.set_verbosity(optuna.logging.WARNING)\n",
    "\n",
    "    # Extract feature names and data types\n",
    "    # features = X.columns[~X.columns.str.contains(\"price\")]\n",
    "    # numerical_features = X.select_dtypes(\"number\").columns.to_list()\n",
    "    categorical_features = X.select_dtypes(\"object\").columns.to_list()\n",
    "\n",
    "    # Create a K-Fold cross-validator\n",
    "    CV = model_selection.RepeatedKFold(\n",
    "        n_splits=10, n_repeats=1, random_state=utils.Configuration.seed\n",
    "    )\n",
    "\n",
    "    for train_fold_index, val_fold_index in CV.split(X):\n",
    "        X_train_fold, X_val_fold = X.loc[train_fold_index], X.loc[val_fold_index]\n",
    "        y_train_fold, y_val_fold = y.loc[train_fold_index], y.loc[val_fold_index]\n",
    "\n",
    "        # Create CatBoost datasets\n",
    "        catboost_train = catboost.Pool(\n",
    "            X_train_fold,\n",
    "            y_train_fold,\n",
    "            cat_features=categorical_features,\n",
    "        )\n",
    "        catboost_valid = catboost.Pool(\n",
    "            X_val_fold,\n",
    "            y_val_fold,\n",
    "            cat_features=categorical_features,\n",
    "        )\n",
    "\n",
    "        # Initialize and train the CatBoost model\n",
    "        model = catboost.CatBoostRegressor(**catboost_params)\n",
    "        model.fit(\n",
    "            catboost_train,\n",
    "            eval_set=[catboost_valid],\n",
    "            early_stopping_rounds=utils.Configuration.early_stopping_round,\n",
    "            verbose=utils.Configuration.verbose,\n",
    "            use_best_model=True,\n",
    "        )\n",
    "\n",
    "        # Calculate OOF validation predictions\n",
    "        valid_pred = model.predict(X_val_fold)\n",
    "\n",
    "        RMSE_score = metrics.mean_squared_error(y_val_fold, valid_pred, squared=False)\n",
    "\n",
    "        del (\n",
    "            X_train_fold,\n",
    "            y_train_fold,\n",
    "            X_val_fold,\n",
    "            y_val_fold,\n",
    "            catboost_train,\n",
    "            catboost_valid,\n",
    "            model,\n",
    "            valid_pred,\n",
    "        )\n",
    "        gc.collect()\n",
    "\n",
    "        results.append(RMSE_score)\n",
    "    return np.mean(results)"
   ]
  },
  {
   "cell_type": "code",
   "execution_count": 5,
   "id": "72511d93-ac86-431b-9814-e326510efba5",
   "metadata": {},
   "outputs": [
    {
     "name": "stderr",
     "output_type": "stream",
     "text": [
      "[I 2023-10-22 19:28:49,161] A new study created in memory with name: no-name-d0bf6825-08f2-44b8-b7ab-454e29b57ead\n"
     ]
    },
    {
     "data": {
      "application/vnd.jupyter.widget-view+json": {
       "model_id": "404ea3f644ba4b7aaf603cc57bb3ccbc",
       "version_major": 2,
       "version_minor": 0
      },
      "text/plain": [
       "  0%|          | 0/50 [00:00<?, ?it/s]"
      ]
     },
     "metadata": {},
     "output_type": "display_data"
    }
   ],
   "source": [
    "study = optuna.create_study(direction=\"minimize\")\n",
    "study.optimize(train_model.Optuna_Objective(X, y), n_trials=50, show_progress_bar=True)"
   ]
  },
  {
   "cell_type": "code",
   "execution_count": 6,
   "id": "703ec3df-99ed-43aa-a34c-73200870e802",
   "metadata": {},
   "outputs": [
    {
     "name": "stdout",
     "output_type": "stream",
     "text": [
      "{'iterations': 800, 'depth': 7, 'learning_rate': 0.1250305192970083, 'random_strength': 7.84360123799234, 'bagging_temperature': 0.6210737504978057, 'l2_leaf_reg': 30, 'border_count': 141}\n",
      "0.10727907686803564\n"
     ]
    }
   ],
   "source": [
    "print(study.best_params)\n",
    "print(study.best_value)\n",
    "dumper(study.best_params, \"CatBoost_params\")\n",
    "dumper(study.best_value, \"CatBoost_value\")"
   ]
  }
 ],
 "metadata": {
  "kernelspec": {
   "display_name": "Python 3 (ipykernel)",
   "language": "python",
   "name": "python3"
  },
  "language_info": {
   "codemirror_mode": {
    "name": "ipython",
    "version": 3
   },
   "file_extension": ".py",
   "mimetype": "text/x-python",
   "name": "python",
   "nbconvert_exporter": "python",
   "pygments_lexer": "ipython3",
   "version": "3.10.12"
  },
  "toc-autonumbering": false,
  "toc-showcode": false,
  "toc-showmarkdowntxt": false,
  "varInspector": {
   "cols": {
    "lenName": 16,
    "lenType": 16,
    "lenVar": 40
   },
   "kernels_config": {
    "python": {
     "delete_cmd_postfix": "",
     "delete_cmd_prefix": "del ",
     "library": "var_list.py",
     "varRefreshCmd": "print(var_dic_list())"
    },
    "r": {
     "delete_cmd_postfix": ") ",
     "delete_cmd_prefix": "rm(",
     "library": "var_list.r",
     "varRefreshCmd": "cat(var_dic_list()) "
    }
   },
   "types_to_exclude": [
    "module",
    "function",
    "builtin_function_or_method",
    "instance",
    "_Feature"
   ],
   "window_display": false
  }
 },
 "nbformat": 4,
 "nbformat_minor": 5
}
