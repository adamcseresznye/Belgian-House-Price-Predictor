{
 "cells": [
  {
   "cell_type": "raw",
   "id": "ecb309f7",
   "metadata": {},
   "source": [
    "---\n",
    "title: 'Predicting Belgian Real Estate Prices: Part 1: Feature Selection for Web Scraping'\n",
    "author: Adam Cseresznye\n",
    "date: '2023-09-17'\n",
    "categories:\n",
    "  - Predicting Belgian Real Estate Prices \n",
    "jupyter: python3\n",
    "toc: true\n",
    "format:\n",
    "  html:\n",
    "    code-fold: true\n",
    "    code-tools: true\n",
    "---"
   ]
  },
  {
   "cell_type": "markdown",
   "id": "aab5a692-e95d-4785-8d85-ed1cc10b4056",
   "metadata": {
    "tags": []
   },
   "source": [
    "![Photo by Stephen Phillips - Hostreviews.co.uk on UnSplash](https://cf.bstatic.com/xdata/images/hotel/max1024x768/408003083.jpg?k=c49b5c4a2346b3ab002b9d1b22dbfb596cee523b53abef2550d0c92d0faf2d8b&o=&hp=1){fig-align=\"center\" width=50%}\n"
   ]
  },
  {
   "cell_type": "markdown",
   "id": "2afceccc-a50f-4596-a6fa-a511693421bd",
   "metadata": {},
   "source": [
    "Welcome to our project focusing on understanding the key factors that impact real estate property prices in Belgium. Our ultimate goal is to leverage data collected from _immoweb.be_, a prominent real estate platform in the country, to predict house prices in Belgium. \n",
    "\n",
    "If you'd like to give the app a try, you can access it [here](https://belgian-house-price-predictor.streamlit.app/). The app is divided into three sections:\n",
    "\n",
    "1. **Intro**: This section provides a basic overview of how the project is structured, how data is handled, and how the models are trained.\n",
    "\n",
    "2. **Explore Data**: In this section, you can explore the data interactively using boxplots and scatter plots. It allows you to visualize how specific variables impact property prices.\n",
    "\n",
    "3. **Make Predictions**: On the \"Make Predictions\" page, you can input certain variables and generate your own predictions based on the latest trained model.\n",
    "\n",
    "It's worth noting that we maintain the app's accuracy by regularly updating the data through GitHub Actions, which scrapes and retrains the model every month. To test your skills against my base test RMSE score, you can download and use the [dataset](https://www.kaggle.com/datasets/unworried1686/belgian-property-prices-2023/data) I uploaded to my Kaggle account through Kaggle Datasets.\n",
    "\n",
    "I'm excited to see what you can come up with using this tool. Feel free to explore and experiment with the app, and don't hesitate to ask if you have any questions or need assistance with anything related to it.\n",
    "\n",
    "In a series of blog posts, we will guide you through the thought process that led to the creation of the Streamlit application. Feel free to explore the topics that pique your interest or that you'd like to learn more about. We hope you'll find this information valuable for your own projects. Let's get started!  \n",
    "\n",
    "Note: Although the data collection process is not described in detail here, you can find the complete workflow in the `src/main.py` file, specifically focusing on the relevant functions and methods in `src/data/make_dataset.py`. Feel free to explore it further. In summary, we utilized the `request_html` library to scrape all available data, which we will show you how to process in subsequent notebooks."
   ]
  },
  {
   "cell_type": "markdown",
   "id": "c7cf0e6d-6487-4ca0-8575-0026e66a9c82",
   "metadata": {},
   "source": [
    "::: {.callout-tip title=\"How to import your own module using a .pth file\"}\n",
    "\n",
    "In case you encounter difficulties importing your own modules, I found this [Stack Overflow question](https://stackoverflow.com/questions/700375/how-to-add-a-python-import-path-using-a-pth-file) to be quite helpful. To resolve this issue, you can follow these steps:\r\n",
    "\r\n",
    "1. Create a `.pth` file that contains the path to the folder where your module is located. For example, prepare a `.pth` file with the content: `C:\\Users\\myname\\house_price_prediction\\src`.\r\n",
    "\r\n",
    "2. Place this `.pth` file into the following folder: `C:\\Users\\myname\\AppData\\Roaming\\Python\\Python310\\site-packages`. This folder is already included in your `PYTHONPATH`, allowing Python to recognize your package directory.\r\n",
    "\r\n",
    "3. To verify what folders are in your `PYTHONPATH`, you can check it using the `import sys` and `sys.path` commands.\r\n",
    "\r\n",
    "Once you've completed these steps, you'll be able to import the `utils` module with the following statement: `from data importach out.\n",
    "\n",
    ":::"
   ]
  },
  {
   "cell_type": "markdown",
   "id": "1d17f8a9-9a1a-4082-83e0-3a9e8610227d",
   "metadata": {},
   "source": [
    "# Import data"
   ]
  },
  {
   "cell_type": "code",
   "execution_count": null,
   "id": "aef037ac-f2fd-4b27-96ad-be1d47932c7d",
   "metadata": {},
   "outputs": [],
   "source": [
    "import time\n",
    "from pathlib import Path\n",
    "\n",
    "import pandas as pd\n",
    "from data import utils\n",
    "from lets_plot import *\n",
    "from lets_plot.mapping import as_discrete\n",
    "\n",
    "LetsPlot.setup_html()"
   ]
  },
  {
   "cell_type": "markdown",
   "id": "a5e64723-cab4-433e-8b44-7a88f5f76011",
   "metadata": {},
   "source": [
    "# Select Columns to Retain Based on the Quantity of Missing Values\n",
    "\n",
    "In the realm of web scraping, managing the sheer volume of data is often the initial hurdle to conquer. It's not so much about deciding what data to collect but rather what data to retain. As we delve into the data collected from the Imoweb website, we are met with a plethora of listings, each offering a unique set of information.\n",
    "\n",
    "For many of these listings, there are commonalities – details like location and price tend to be constants. However, interspersed among them are those one-of-a-kind nuggets of information, such as the number of swimming pools available that obviously will be unique to certain listings. While these specific details can certainly be vital in assessing the value of certain listings, the downside is that they can lead to a sparse dataset.\n",
    "\n",
    "Now, let's import our initial dataset to examine the features that are commonly shared among most ads, i.e., those that are filled in most frequently. After identifying these common attributes, we can optimize our data collection process by keeping these key characteristics and removing the less common ones."
   ]
  },
  {
   "cell_type": "code",
   "execution_count": 2,
   "id": "2b258438-1917-424b-a3ee-fdf342f3e3bd",
   "metadata": {},
   "outputs": [],
   "source": [
    "df = pd.read_parquet(\n",
    "    utils.Configuration.RAW_DATA_PATH.joinpath(\n",
    "        \"complete_dataset_2023-09-27_for_NB2.parquet.gzip\"\n",
    "    )\n",
    ")"
   ]
  },
  {
   "cell_type": "markdown",
   "id": "06d279a7-d3c0-42c1-a6d6-b5846a55d381",
   "metadata": {},
   "source": [
    "As depicted in @fig-fig1, the features 'day of retrieval,' 'url,' and 'Energy Class' demonstrate the highest completeness, with more than 90% of instances being present. In contrast, 'dining room,' 'office,' and 'TV cable' are among the least populated features, with roughly 10-20% of non-missing instances.\n",
    "\n",
    "This information allows us to devise a strategy where we, for example, could retain features with a completeness of over 50%. We will delve deeper into this question in our subsequent notebooks."
   ]
  },
  {
   "cell_type": "code",
   "execution_count": 3,
   "id": "8ce82bd2-3893-4c4a-8500-2dc51ce0ca0a",
   "metadata": {},
   "outputs": [
    {
     "data": {
      "text/html": [
       "   <div id=\"KvoVBb\"></div>\n",
       "   <script type=\"text/javascript\" data-lets-plot-script=\"plot\">\n",
       "       (function() {\n",
       "           var plotSpec={\n",
       "\"data\":{\n",
       "\"column\":[\"ad_url\",\"day_of_retrieval\",\"Energy class\",\"Primary energy consumption\",\"Yearly theoretical total energy consumption\",\"CO₂ emission\",\"Reference number of the EPC report\",\"Address\",\"Tenement building\",\"Bedrooms\",\"Price\",\"Living area\",\"Surface of the plot\",\"Building condition\",\"Bathrooms\",\"Number of frontages\",\"External reference\",\"Toilets\",\"Website\",\"Heating type\",\"Double glazing\",\"Kitchen type\",\"Cadastral income\",\"Construction year\",\"Bedroom 1 surface\",\"Gas, water & electricity\",\"Bedroom 2 surface\",\"Living room surface\",\"Available as of\",\"Kitchen surface\",\"Flood zone type\",\"Covered parking spaces\",\"Bedroom 3 surface\",\"Surroundings type\",\"Outdoor parking spaces\",\"Furnished\",\"Possible priority purchase right\",\"Garden surface\",\"Latest land use designation\",\"As built plan\",\"Basement\",\"Street frontage width\",\"Connection to sewer network\",\"Width of the lot on the street\",\"Subdivision permit\",\"Proceedings for breach of planning regulations\",\"Planning permission obtained\",\"TV cable\",\"Office\",\"Dining room\"],\n",
       "\"perc_values_present\":[48.900000000000006,48.900000000000006,48.7,48.7,48.7,48.7,48.7,48.3,47.7,44.0,43.7,42.8,41.3,40.7,39.599999999999994,39.5,38.8,35.900000000000006,33.5,32.400000000000006,30.0,28.900000000000006,24.0,17.200000000000003,14.400000000000006,13.100000000000001,13.0,11.100000000000001,6.600000000000001,4.899999999999999,4.200000000000003,2.5,1.7000000000000028,-1.8999999999999986,-3.8999999999999986,-4.5,-5.299999999999997,-5.299999999999997,-5.5,-5.700000000000003,-5.899999999999999,-6.299999999999997,-7.899999999999999,-10.0,-12.0,-14.100000000000001,-17.6,-17.9,-22.1,-22.1],\n",
       "\"Has_non_missing_values_above_50_pct\":[true,true,true,true,true,true,true,true,true,true,true,true,true,true,true,true,true,true,true,true,true,true,true,true,true,true,true,true,true,true,true,true,true,false,false,false,false,false,false,false,false,false,false,false,false,false,false,false,false,false]\n",
       "},\n",
       "\"mapping\":{\n",
       "\"x\":\"perc_values_present\",\n",
       "\"y\":\"column\",\n",
       "\"fill\":\"Has_non_missing_values_above_50_pct\"\n",
       "},\n",
       "\"data_meta\":{\n",
       "},\n",
       "\"ggsize\":{\n",
       "\"width\":800.0,\n",
       "\"height\":1000.0\n",
       "},\n",
       "\"ggtitle\":{\n",
       "\"text\":\"Top 50 Features with Non-Missing Values Above 50%\",\n",
       "\"subtitle\":\"The plot illustrates that the features 'day of retrieval,' 'url,' and 'Energy Class' exhibited the \\n            highest completeness, with over 90% of instances present. Conversely, 'dining room','office,' and 'TV cable' \\n            were among the least populated features, with approximately 10-20% of non-missing instances.\\n            \"\n",
       "},\n",
       "\"caption\":{\n",
       "\"text\":\"https://www.immoweb.be/\"\n",
       "},\n",
       "\"theme\":{\n",
       "\"plot_title\":{\n",
       "\"face\":\"bold\",\n",
       "\"size\":15.0,\n",
       "\"blank\":false\n",
       "},\n",
       "\"plot_subtitle\":{\n",
       "\"face\":\"italic\",\n",
       "\"size\":12.0,\n",
       "\"blank\":false\n",
       "}\n",
       "},\n",
       "\"kind\":\"plot\",\n",
       "\"scales\":[{\n",
       "\"name\":\"Percentage of Instances Present with Reference Point at 50%\",\n",
       "\"aesthetic\":\"x\"\n",
       "},{\n",
       "\"name\":\"\",\n",
       "\"aesthetic\":\"y\"\n",
       "}],\n",
       "\"layers\":[{\n",
       "\"geom\":\"bar\",\n",
       "\"stat\":\"identity\",\n",
       "\"mapping\":{\n",
       "},\n",
       "\"show_legend\":false,\n",
       "\"data_meta\":{\n",
       "},\n",
       "\"orientation\":\"y\",\n",
       "\"data\":{\n",
       "}\n",
       "}],\n",
       "\"metainfo_list\":[]\n",
       "};\n",
       "           var plotContainer = document.getElementById(\"KvoVBb\");\n",
       "           window.letsPlotCall(function() {{\n",
       "               LetsPlot.buildPlotFromProcessedSpecs(plotSpec, -1, -1, plotContainer);\n",
       "           }});\n",
       "       })();    \n",
       "   </script>"
      ],
      "text/plain": [
       "<lets_plot.plot.core.PlotSpec at 0x28b8fafa920>"
      ]
     },
     "execution_count": 3,
     "metadata": {},
     "output_type": "execute_result"
    }
   ],
   "source": [
    "# | fig-cap: \"Top 50 Features with Non-Missing Values Above 50%\"\n",
    "# | label: fig-fig1\n",
    "\n",
    "\n",
    "# Getting the column names with lowest missing values\n",
    "lowest_missing_value_columns = (\n",
    "    df.notna()\n",
    "    .sum()\n",
    "    .div(df.shape[0])\n",
    "    .mul(100)\n",
    "    .sort_values(ascending=False)\n",
    "    .head(50)\n",
    "    .round(1)\n",
    ")\n",
    "indexes_to_keep = lowest_missing_value_columns.index\n",
    "\n",
    "(\n",
    "    lowest_missing_value_columns.reset_index()\n",
    "    .rename(columns={\"index\": \"column\", 0: \"perc_values_present\"})\n",
    "    .assign(\n",
    "        Has_non_missing_values_above_50_pct=lambda df: df.perc_values_present.gt(50),\n",
    "        perc_values_present=lambda df: df.perc_values_present - 50,\n",
    "    )\n",
    "    .pipe(\n",
    "        lambda df: ggplot(\n",
    "            df,\n",
    "            aes(\n",
    "                \"perc_values_present\",\n",
    "                \"column\",\n",
    "                fill=\"Has_non_missing_values_above_50_pct\",\n",
    "            ),\n",
    "        )\n",
    "        + geom_bar(stat=\"identity\", orientation=\"y\", show_legend=False)\n",
    "        + ggsize(800, 1000)\n",
    "        + labs(\n",
    "            title=\"Top 50 Features with Non-Missing Values Above 50%\",\n",
    "            subtitle=\"\"\"The plot illustrates that the features 'day of retrieval,' 'url,' and 'Energy Class' exhibited the \n",
    "            highest completeness, with over 90% of instances present. Conversely, 'dining room','office,' and 'TV cable' \n",
    "            were among the least populated features, with approximately 10-20% of non-missing instances.\n",
    "            \"\"\",\n",
    "            x=\"Percentage of Instances Present with Reference Point at 50%\",\n",
    "            y=\"\",\n",
    "            caption=\"https://www.immoweb.be/\",\n",
    "        )\n",
    "        + theme(\n",
    "            plot_subtitle=element_text(\n",
    "                size=12, face=\"italic\"\n",
    "            ),  # Customize subtitle appearance\n",
    "            plot_title=element_text(size=15, face=\"bold\"),  # Customize title appearance\n",
    "        )\n",
    "    )\n",
    ")"
   ]
  },
  {
   "cell_type": "markdown",
   "id": "53efb296-e31b-4458-9bdf-75c354a1227e",
   "metadata": {},
   "source": [
    "That's all for now. In part 2, we will examine the downloaded raw data and investigate the error messages we encountered during the web scraping process with the goal of understanding how to overcome these challenges. See you in the next installment!"
   ]
  }
 ],
 "metadata": {
  "kernelspec": {
   "display_name": "Python 3 (ipykernel)",
   "language": "python",
   "name": "python3"
  },
  "language_info": {
   "codemirror_mode": {
    "name": "ipython",
    "version": 3
   },
   "file_extension": ".py",
   "mimetype": "text/x-python",
   "name": "python",
   "nbconvert_exporter": "python",
   "pygments_lexer": "ipython3",
   "version": "3.10.12"
  },
  "toc-autonumbering": false,
  "toc-showcode": false,
  "toc-showmarkdowntxt": false,
  "varInspector": {
   "cols": {
    "lenName": 16,
    "lenType": 16,
    "lenVar": 40
   },
   "kernels_config": {
    "python": {
     "delete_cmd_postfix": "",
     "delete_cmd_prefix": "del ",
     "library": "var_list.py",
     "varRefreshCmd": "print(var_dic_list())"
    },
    "r": {
     "delete_cmd_postfix": ") ",
     "delete_cmd_prefix": "rm(",
     "library": "var_list.r",
     "varRefreshCmd": "cat(var_dic_list()) "
    }
   },
   "types_to_exclude": [
    "module",
    "function",
    "builtin_function_or_method",
    "instance",
    "_Feature"
   ],
   "window_display": false
  }
 },
 "nbformat": 4,
 "nbformat_minor": 5
}
