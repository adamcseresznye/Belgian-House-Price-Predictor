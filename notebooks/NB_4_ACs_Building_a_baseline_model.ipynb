{
 "cells": [
  {
   "cell_type": "raw",
   "id": "ecb309f7",
   "metadata": {},
   "source": [
    "---\n",
    "title: 'Predicting Belgian Real Estate Prices: Part 4: Building a Baseline Model'\n",
    "author: Adam Cseresznye\n",
    "date: '2023-09-17'\n",
    "categories:\n",
    "  - Predicting Belgian Real Estate Prices \n",
    "jupyter: python3\n",
    "toc: true\n",
    "format:\n",
    "  html:\n",
    "    code-fold: true\n",
    "    code-tools: true\n",
    "---"
   ]
  },
  {
   "cell_type": "markdown",
   "id": "aab5a692-e95d-4785-8d85-ed1cc10b4056",
   "metadata": {
    "tags": []
   },
   "source": [
    "![Photo by Stephen Phillips - Hostreviews.co.uk on UnSplash](https://cf.bstatic.com/xdata/images/hotel/max1024x768/408003083.jpg?k=c49b5c4a2346b3ab002b9d1b22dbfb596cee523b53abef2550d0c92d0faf2d8b&o=&hp=1){fig-align=\"center\" width=50%}\n"
   ]
  },
  {
   "cell_type": "markdown",
   "id": "7af189aa",
   "metadata": {},
   "source": [
    "# Import data"
   ]
  },
  {
   "cell_type": "code",
   "execution_count": null,
   "id": "cc3c6a54-530c-4491-bb08-3dfc054d78a6",
   "metadata": {
    "editable": true,
    "slideshow": {
     "slide_type": ""
    },
    "tags": []
   },
   "outputs": [],
   "source": [
    "import time\n",
    "import warnings\n",
    "from pathlib import Path\n",
    "\n",
    "import catboost\n",
    "import lightgbm as lgb\n",
    "import numpy as np\n",
    "import pandas as pd\n",
    "import xgboost\n",
    "from data import utils\n",
    "from lets_plot import *\n",
    "from lets_plot.mapping import as_discrete\n",
    "from sklearn import (\n",
    "    compose,\n",
    "    dummy,\n",
    "    ensemble,\n",
    "    impute,\n",
    "    linear_model,\n",
    "    model_selection,\n",
    "    pipeline,\n",
    "    preprocessing,\n",
    "    svm,\n",
    "    tree,\n",
    ")\n",
    "from sklearn.base import BaseEstimator, TransformerMixin\n",
    "from tqdm import tqdm\n",
    "\n",
    "LetsPlot.setup_html()"
   ]
  },
  {
   "cell_type": "markdown",
   "id": "8194fbe9-cd5c-4724-b219-b17d11850955",
   "metadata": {},
   "source": [
    "**Objective**:\n",
    "* Examine the necessary sample pre-processing steps before modeling\n",
    "* Create the required pipeline\n",
    "* \n",
    "Evaluate multiple algorit\n",
    "* \r\n",
    "Choose a suitable baseline mol.\r\n",
    "\r\n",
    "\r\n",
    "\r\n"
   ]
  },
  {
   "cell_type": "markdown",
   "id": "86846c91-1d46-4c2e-8fb2-72f5c5b8e8fd",
   "metadata": {},
   "source": [
    "# Prepare dataframe before modelling\n",
    "## Read in the processed file"
   ]
  },
  {
   "cell_type": "code",
   "execution_count": 2,
   "id": "f38a1142-1fd1-4e4f-9ca4-08132b07fd0a",
   "metadata": {},
   "outputs": [
    {
     "name": "stdout",
     "output_type": "stream",
     "text": [
      "Shape of dataframe after read-in a pre-processing: (3660, 50)\n",
      "Shape of X: (3660, 49)\n",
      "Shape of y: (3660,)\n"
     ]
    }
   ],
   "source": [
    "utils.seed_everything(utils.Configuration.seed)\n",
    "\n",
    "df = (\n",
    "    pd.read_parquet(\n",
    "        utils.Configuration.INTERIM_DATA_PATH.joinpath(\n",
    "            \"2023-10-01_Processed_dataset_for_NB_use.parquet.gzip\"\n",
    "        )\n",
    "    )\n",
    "    .sample(frac=1, random_state=utils.Configuration.seed)\n",
    "    .reset_index(drop=True)\n",
    "    .assign(price=lambda df: np.log(df.price))\n",
    "    .drop(\n",
    "        columns=[\n",
    "            \"external_reference\",\n",
    "            \"ad_url\",\n",
    "            \"day_of_retrieval\",\n",
    "            \"website\",\n",
    "            \"reference_number_of_the_epc_report\",\n",
    "            \"housenumber\",\n",
    "        ]\n",
    "    )\n",
    ")\n",
    "\n",
    "print(f\"Shape of dataframe after read-in a pre-processing: {df.shape}\")\n",
    "X = df.drop(columns=utils.Configuration.target_col)\n",
    "y = df[utils.Configuration.target_col]\n",
    "\n",
    "print(f\"Shape of X: {X.shape}\")\n",
    "print(f\"Shape of y: {y.shape}\")"
   ]
  },
  {
   "cell_type": "markdown",
   "id": "0f6ea9ae-4cfe-4383-b0ec-d150d0c345e3",
   "metadata": {},
   "source": [
    "## Train-test split"
   ]
  },
  {
   "cell_type": "code",
   "execution_count": 3,
   "id": "c8ca1977-bdfe-41c0-af59-8f97fe7c9be0",
   "metadata": {},
   "outputs": [
    {
     "name": "stdout",
     "output_type": "stream",
     "text": [
      "Shape of X-train: (2928, 49)\n",
      "Shape of X-test: (732, 49)\n"
     ]
    }
   ],
   "source": [
    "X_train, X_test, y_train, y_test = model_selection.train_test_split(\n",
    "    X, y, test_size=0.2, random_state=utils.Configuration.seed\n",
    ")\n",
    "\n",
    "print(f\"Shape of X-train: {X_train.shape}\")\n",
    "print(f\"Shape of X-test: {X_test.shape}\")"
   ]
  },
  {
   "cell_type": "markdown",
   "id": "ca1eed3a-9abe-415e-b862-b93a0b0464c7",
   "metadata": {},
   "source": [
    "# Implementing the data-processing pipeline\n"
   ]
  },
  {
   "cell_type": "code",
   "execution_count": 4,
   "id": "bce834b8-af04-492c-8798-d4498f701191",
   "metadata": {},
   "outputs": [],
   "source": [
    "class FeatureSelector(BaseEstimator, TransformerMixin):\n",
    "    \"\"\"\n",
    "    A transformer for selecting specific columns from a DataFrame.\n",
    "\n",
    "    This class inherits from the BaseEstimator and TransformerMixin classes from sklearn.base.\n",
    "    It overrides the fit and transform methods from the parent classes.\n",
    "\n",
    "    Attributes:\n",
    "        feature_names_in_ (list): The names of the features to select.\n",
    "        n_features_in_ (int): The number of features to select.\n",
    "\n",
    "    Methods:\n",
    "        fit(X, y=None): Fit the transformer. Returns self.\n",
    "        transform(X, y=None): Apply the transformation. Returns a DataFrame with selected features.\n",
    "    \"\"\"\n",
    "\n",
    "    def __init__(self, feature_names_in_):\n",
    "        \"\"\"\n",
    "        Constructs all the necessary attributes for the FeatureSelector object.\n",
    "\n",
    "        Args:\n",
    "            feature_names_in_ (list): The names of the features to select.\n",
    "        \"\"\"\n",
    "        self.feature_names_in_ = feature_names_in_\n",
    "        self.n_features_in_ = len(feature_names_in_)\n",
    "\n",
    "    def fit(self, X, y=None):\n",
    "        \"\"\"\n",
    "        Fit the transformer. This method doesn't do anything as no fitting is necessary.\n",
    "\n",
    "        Args:\n",
    "            X (DataFrame): The input data.\n",
    "            y (array-like, optional): The target variable. Defaults to None.\n",
    "\n",
    "        Returns:\n",
    "            self: The instance itself.\n",
    "        \"\"\"\n",
    "        return self\n",
    "\n",
    "    def transform(self, X, y=None):\n",
    "        \"\"\"\n",
    "        Apply the transformation. Selects the features from the input data.\n",
    "\n",
    "        Args:\n",
    "            X (DataFrame): The input data.\n",
    "            y (array-like, optional): The target variable. Defaults to None.\n",
    "\n",
    "        Returns:\n",
    "            DataFrame: A DataFrame with only the selected features.\n",
    "        \"\"\"\n",
    "        return X.loc[:, self.feature_names_in_].copy(deep=True)"
   ]
  },
  {
   "cell_type": "code",
   "execution_count": 5,
   "id": "7eecbee6-000e-4806-92fd-3bb6826690d5",
   "metadata": {},
   "outputs": [],
   "source": [
    "# Selecting columns by dtypes\n",
    "\n",
    "numerical_columns = X_train.head().select_dtypes(\"number\").columns.to_list()\n",
    "categorical_columns = X_train.head().select_dtypes(\"object\").columns.to_list()"
   ]
  },
  {
   "cell_type": "code",
   "execution_count": 6,
   "id": "f601bd3f-a3cf-450b-8b95-83c638d7ef29",
   "metadata": {},
   "outputs": [],
   "source": [
    "# Prepare pipelines for corresponding columns:\n",
    "numerical_pipeline = pipeline.Pipeline(\n",
    "    steps=[\n",
    "        (\"num_selector\", FeatureSelector(numerical_columns)),\n",
    "        (\"imputer\", impute.SimpleImputer(strategy=\"median\")),\n",
    "        (\"std_scaler\", preprocessing.MinMaxScaler()),\n",
    "    ]\n",
    ")\n",
    "\n",
    "categorical_pipeline = pipeline.Pipeline(\n",
    "    steps=[\n",
    "        (\"cat_selector\", FeatureSelector(categorical_columns)),\n",
    "        (\"imputer\", impute.SimpleImputer(strategy=\"most_frequent\")),\n",
    "        (\n",
    "            \"onehot\",\n",
    "            preprocessing.OneHotEncoder(handle_unknown=\"ignore\", sparse_output=True),\n",
    "        ),\n",
    "    ]\n",
    ")"
   ]
  },
  {
   "cell_type": "code",
   "execution_count": 7,
   "id": "25c61e2c-98a3-4ecc-91e4-2a1fb55785a9",
   "metadata": {},
   "outputs": [],
   "source": [
    "# Put all the pipelines inside a FeatureUnion:\n",
    "data_preprocessing_pipeline = pipeline.FeatureUnion(\n",
    "    n_jobs=-1,\n",
    "    transformer_list=[\n",
    "        (\"numerical_pipeline\", numerical_pipeline),\n",
    "        (\"categorical_pipeline\", categorical_pipeline),\n",
    "    ],\n",
    ")\n",
    "\n",
    "# model_pipeline can be extended later with the addition of the selected model:\n",
    "# for now it only functions as a data pre-processing pipeline\n",
    "model_pipeline = pipeline.Pipeline(\n",
    "    steps=[\n",
    "        (\"data_preprocessing_pipeline\", data_preprocessing_pipeline),\n",
    "        # (\"model\", GradientBoostingClassifier())\n",
    "    ]\n",
    ")"
   ]
  },
  {
   "cell_type": "markdown",
   "id": "ecf35d5d-31dc-46ce-981d-c579a709d617",
   "metadata": {},
   "source": [
    "# Compare the performance of several algorithms\n"
   ]
  },
  {
   "cell_type": "code",
   "execution_count": null,
   "id": "dfd649bd-cc18-4f89-bd45-2e11d4fe0ddf",
   "metadata": {},
   "outputs": [
    {
     "name": "stderr",
     "output_type": "stream",
     "text": [
      " 50%|███████████████████████████████████████████████████████████████████████████████████████                                                                                       | 1/2 [02:46<02:46, 166.12s/it]"
     ]
    }
   ],
   "source": [
    "with warnings.catch_warnings():\n",
    "    warnings.simplefilter(action=\"ignore\", category=FutureWarning)\n",
    "\n",
    "    MLA = [\n",
    "        linear_model.LinearRegression(),\n",
    "        linear_model.BayesianRidge(),\n",
    "        linear_model.SGDRegressor(),\n",
    "        linear_model.PassiveAggressiveRegressor(),\n",
    "        linear_model.RANSACRegressor(),\n",
    "        linear_model.Lasso(),\n",
    "        linear_model.HuberRegressor(),\n",
    "        svm.SVR(),\n",
    "        ensemble.GradientBoostingRegressor(),\n",
    "        tree.DecisionTreeRegressor(),\n",
    "        ensemble.RandomForestRegressor(),\n",
    "        ensemble.ExtraTreesRegressor(),\n",
    "        ensemble.AdaBoostRegressor(),\n",
    "        catboost.CatBoostRegressor(),\n",
    "        lgb.LGBMRegressor(),\n",
    "        xgboost.XGBRegressor(),\n",
    "        dummy.DummyClassifier(),\n",
    "    ]\n",
    "\n",
    "    # note: this is an alternative to train_test_split\n",
    "    cv_split = model_selection.ShuffleSplit(\n",
    "        n_splits=10, test_size=0.3, train_size=0.6, random_state=0\n",
    "    )  # run model 10x with 60/30 split intentionally leaving out 10%\n",
    "\n",
    "    # create table to compare MLA metrics\n",
    "    MLA_columns = [\n",
    "        \"MLA Name\",\n",
    "        \"MLA Parameters\",\n",
    "        \"MLA Train f1 Mean\",\n",
    "        \"MLA Test f1 Mean\",\n",
    "        \"MLA Test f1 3*STD\",\n",
    "        \"MLA Time\",\n",
    "    ]\n",
    "    MLA_compare = pd.DataFrame(columns=MLA_columns)\n",
    "\n",
    "    # index through MLA and save performance to table\n",
    "    row_index = 0\n",
    "    for alg in tqdm(MLA):\n",
    "        # set name and parameters\n",
    "        MLA_name = alg.__class__.__name__\n",
    "        MLA_compare.loc[row_index, \"MLA Name\"] = MLA_name\n",
    "        MLA_compare.loc[row_index, \"MLA Parameters\"] = str(alg.get_params())\n",
    "\n",
    "        model_pipeline = pipeline.Pipeline(\n",
    "            steps=[\n",
    "                (\"data_preprocessing_pipeline\", data_preprocessing_pipeline),\n",
    "                (\"model\", alg),\n",
    "            ]\n",
    "        )\n",
    "\n",
    "        cv_results = model_selection.cross_validate(\n",
    "            model_pipeline,\n",
    "            X_train,\n",
    "            y_train,\n",
    "            cv=cv_split,\n",
    "            scoring=\"neg_mean_squared_error\",\n",
    "            return_train_score=True,\n",
    "        )\n",
    "\n",
    "        MLA_compare.loc[row_index, \"MLA Time\"] = cv_results[\"fit_time\"].mean()\n",
    "        MLA_compare.loc[row_index, \"MLA Train f1 Mean\"] = cv_results[\n",
    "            \"train_score\"\n",
    "        ].mean()\n",
    "        MLA_compare.loc[row_index, \"MLA Test f1 Mean\"] = cv_results[\"test_score\"].mean()\n",
    "        MLA_compare.loc[row_index, \"MLA Test f1 3*STD\"] = (\n",
    "            cv_results[\"test_score\"].std() * 3\n",
    "        )\n",
    "\n",
    "        row_index += 1\n",
    "\n",
    "    MLA_compare.sort_values(by=[\"MLA Test f1 Mean\"], ascending=False)\n",
    "MLA_compare"
   ]
  },
  {
   "cell_type": "code",
   "execution_count": null,
   "id": "8d23e4c1-7cf1-4262-a23d-434efc9fb0ce",
   "metadata": {},
   "outputs": [],
   "source": []
  }
 ],
 "metadata": {
  "kernelspec": {
   "display_name": "Python 3 (ipykernel)",
   "language": "python",
   "name": "python3"
  },
  "language_info": {
   "codemirror_mode": {
    "name": "ipython",
    "version": 3
   },
   "file_extension": ".py",
   "mimetype": "text/x-python",
   "name": "python",
   "nbconvert_exporter": "python",
   "pygments_lexer": "ipython3",
   "version": "3.10.12"
  },
  "toc-autonumbering": false,
  "toc-showcode": false,
  "toc-showmarkdowntxt": false,
  "varInspector": {
   "cols": {
    "lenName": 16,
    "lenType": 16,
    "lenVar": 40
   },
   "kernels_config": {
    "python": {
     "delete_cmd_postfix": "",
     "delete_cmd_prefix": "del ",
     "library": "var_list.py",
     "varRefreshCmd": "print(var_dic_list())"
    },
    "r": {
     "delete_cmd_postfix": ") ",
     "delete_cmd_prefix": "rm(",
     "library": "var_list.r",
     "varRefreshCmd": "cat(var_dic_list()) "
    }
   },
   "types_to_exclude": [
    "module",
    "function",
    "builtin_function_or_method",
    "instance",
    "_Feature"
   ],
   "window_display": false
  }
 },
 "nbformat": 4,
 "nbformat_minor": 5
}
