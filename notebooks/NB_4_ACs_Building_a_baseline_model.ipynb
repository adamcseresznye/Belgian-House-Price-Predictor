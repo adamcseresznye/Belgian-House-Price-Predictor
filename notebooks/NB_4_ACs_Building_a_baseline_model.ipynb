{
 "cells": [
  {
   "cell_type": "raw",
   "id": "ecb309f7",
   "metadata": {},
   "source": [
    "---\n",
    "title: 'Predicting Belgian Real Estate Prices: Part 4: Building a Baseline Model'\n",
    "author: Adam Cseresznye\n",
    "date: '2023-09-17'\n",
    "categories:\n",
    "  - Predicting Belgian Real Estate Prices \n",
    "jupyter: python3\n",
    "toc: true\n",
    "format:\n",
    "  html:\n",
    "    code-fold: true\n",
    "    code-tools: true\n",
    "---"
   ]
  },
  {
   "cell_type": "markdown",
   "id": "aab5a692-e95d-4785-8d85-ed1cc10b4056",
   "metadata": {
    "tags": []
   },
   "source": [
    "![Photo by Stephen Phillips - Hostreviews.co.uk on UnSplash](https://cf.bstatic.com/xdata/images/hotel/max1024x768/408003083.jpg?k=c49b5c4a2346b3ab002b9d1b22dbfb596cee523b53abef2550d0c92d0faf2d8b&o=&hp=1){fig-align=\"center\" width=50%}\n"
   ]
  },
  {
   "cell_type": "markdown",
   "id": "7af189aa",
   "metadata": {},
   "source": [
    "# Import data"
   ]
  },
  {
   "cell_type": "code",
   "execution_count": 1,
   "id": "cc3c6a54-530c-4491-bb08-3dfc054d78a6",
   "metadata": {
    "editable": true,
    "slideshow": {
     "slide_type": ""
    },
    "tags": []
   },
   "outputs": [
    {
     "data": {
      "text/html": [
       "\n",
       "            <div id=\"ndEbmT\"></div>\n",
       "            <script type=\"text/javascript\" data-lets-plot-script=\"library\">\n",
       "                if(!window.letsPlotCallQueue) {\n",
       "                    window.letsPlotCallQueue = [];\n",
       "                }; \n",
       "                window.letsPlotCall = function(f) {\n",
       "                    window.letsPlotCallQueue.push(f);\n",
       "                };\n",
       "                (function() {\n",
       "                    var script = document.createElement(\"script\");\n",
       "                    script.type = \"text/javascript\";\n",
       "                    script.src = \"https://cdn.jsdelivr.net/gh/JetBrains/lets-plot@v4.0.1/js-package/distr/lets-plot.min.js\";\n",
       "                    script.onload = function() {\n",
       "                        window.letsPlotCall = function(f) {f();};\n",
       "                        window.letsPlotCallQueue.forEach(function(f) {f();});\n",
       "                        window.letsPlotCallQueue = [];\n",
       "                        \n",
       "                    };\n",
       "                    script.onerror = function(event) {\n",
       "                        window.letsPlotCall = function(f) {};    // noop\n",
       "                        window.letsPlotCallQueue = [];\n",
       "                        var div = document.createElement(\"div\");\n",
       "                        div.style.color = 'darkred';\n",
       "                        div.textContent = 'Error loading Lets-Plot JS';\n",
       "                        document.getElementById(\"ndEbmT\").appendChild(div);\n",
       "                    };\n",
       "                    var e = document.getElementById(\"ndEbmT\");\n",
       "                    e.appendChild(script);\n",
       "                })()\n",
       "            </script>\n",
       "            "
      ]
     },
     "metadata": {},
     "output_type": "display_data"
    }
   ],
   "source": [
    "import time\n",
    "from pathlib import Path\n",
    "\n",
    "import lightgbm as lgb\n",
    "import pandas as pd\n",
    "from catboost import CatBoostRegressor\n",
    "from data import utils\n",
    "from lets_plot import *\n",
    "from lets_plot.mapping import as_discrete\n",
    "from sklearn import compose, impute, model_selection, pipeline, preprocessing\n",
    "from xgboost import XGBRegressor\n",
    "\n",
    "LetsPlot.setup_html()"
   ]
  },
  {
   "cell_type": "markdown",
   "id": "8194fbe9-cd5c-4724-b219-b17d11850955",
   "metadata": {},
   "source": [
    "**Objective**:\n",
    "* Examine the necessary sample pre-processing steps before modeling\n",
    "* \n",
    "Create the required pipeline\n",
    "* \r\n",
    "Evaluate multiple algorith\n",
    "* .\r\n",
    "Choose a suitable baseline moel.\r\n",
    "\r\n",
    "\r\n",
    "\r\n"
   ]
  },
  {
   "cell_type": "markdown",
   "id": "86846c91-1d46-4c2e-8fb2-72f5c5b8e8fd",
   "metadata": {},
   "source": [
    "# Train-test split"
   ]
  },
  {
   "cell_type": "code",
   "execution_count": 5,
   "id": "f38a1142-1fd1-4e4f-9ca4-08132b07fd0a",
   "metadata": {},
   "outputs": [],
   "source": [
    "utils.seed_everything(utils.Configuration.seed)\n",
    "\n",
    "df = pd.read_parquet(\n",
    "    utils.Configuration.INTERIM_DATA_PATH.joinpath(\n",
    "        \"2023-10-01_Processed_dataset_for_NB_use.parquet.gzip\"\n",
    "    )\n",
    ")\n",
    "\n",
    "df = df.sample(frac=1, random_state=utils.Configuration.seed).reset_index(drop=True)\n",
    "\n",
    "\n",
    "X = df.drop(columns=utils.Configuration.target_col)\n",
    "y = df[utils.Configuration.target_col]"
   ]
  },
  {
   "cell_type": "code",
   "execution_count": 14,
   "id": "c8ca1977-bdfe-41c0-af59-8f97fe7c9be0",
   "metadata": {},
   "outputs": [],
   "source": [
    "X_train, X_test, y_train, y_test = model_selection.train_test_split(\n",
    "    X, y, test_size=0.2, random_state=utils.Configuration.seed\n",
    ")"
   ]
  }
 ],
 "metadata": {
  "kernelspec": {
   "display_name": "Python 3 (ipykernel)",
   "language": "python",
   "name": "python3"
  },
  "language_info": {
   "codemirror_mode": {
    "name": "ipython",
    "version": 3
   },
   "file_extension": ".py",
   "mimetype": "text/x-python",
   "name": "python",
   "nbconvert_exporter": "python",
   "pygments_lexer": "ipython3",
   "version": "3.10.12"
  },
  "toc-autonumbering": false,
  "toc-showcode": false,
  "toc-showmarkdowntxt": false,
  "varInspector": {
   "cols": {
    "lenName": 16,
    "lenType": 16,
    "lenVar": 40
   },
   "kernels_config": {
    "python": {
     "delete_cmd_postfix": "",
     "delete_cmd_prefix": "del ",
     "library": "var_list.py",
     "varRefreshCmd": "print(var_dic_list())"
    },
    "r": {
     "delete_cmd_postfix": ") ",
     "delete_cmd_prefix": "rm(",
     "library": "var_list.r",
     "varRefreshCmd": "cat(var_dic_list()) "
    }
   },
   "types_to_exclude": [
    "module",
    "function",
    "builtin_function_or_method",
    "instance",
    "_Feature"
   ],
   "window_display": false
  }
 },
 "nbformat": 4,
 "nbformat_minor": 5
}
