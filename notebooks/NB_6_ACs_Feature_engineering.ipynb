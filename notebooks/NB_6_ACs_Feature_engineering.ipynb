{
 "cells": [
  {
   "cell_type": "raw",
   "id": "ecb309f7",
   "metadata": {},
   "source": [
    "---\n",
    "title: 'Predicting Belgian Real Estate Prices: Part 6: Feature Engineering'\n",
    "author: Adam Cseresznye\n",
    "date: '2023-09-17'\n",
    "categories:\n",
    "  - Predicting Belgian Real Estate Prices \n",
    "jupyter: python3\n",
    "toc: true\n",
    "format:\n",
    "  html:\n",
    "    code-fold: true\n",
    "    code-tools: true\n",
    "---"
   ]
  },
  {
   "cell_type": "markdown",
   "id": "aab5a692-e95d-4785-8d85-ed1cc10b4056",
   "metadata": {
    "tags": []
   },
   "source": [
    "![Photo by Stephen Phillips - Hostreviews.co.uk on UnSplash](https://cf.bstatic.com/xdata/images/hotel/max1024x768/408003083.jpg?k=c49b5c4a2346b3ab002b9d1b22dbfb596cee523b53abef2550d0c92d0faf2d8b&o=&hp=1){fig-align=\"center\" width=50%}\n"
   ]
  },
  {
   "cell_type": "markdown",
   "id": "7af189aa",
   "metadata": {},
   "source": [
    "# Import data"
   ]
  },
  {
   "cell_type": "code",
   "execution_count": 22,
   "id": "cc3c6a54-530c-4491-bb08-3dfc054d78a6",
   "metadata": {
    "editable": true,
    "slideshow": {
     "slide_type": ""
    },
    "tags": []
   },
   "outputs": [
    {
     "data": {
      "text/html": [
       "\n",
       "            <div id=\"JrwVLe\"></div>\n",
       "            <script type=\"text/javascript\" data-lets-plot-script=\"library\">\n",
       "                if(!window.letsPlotCallQueue) {\n",
       "                    window.letsPlotCallQueue = [];\n",
       "                }; \n",
       "                window.letsPlotCall = function(f) {\n",
       "                    window.letsPlotCallQueue.push(f);\n",
       "                };\n",
       "                (function() {\n",
       "                    var script = document.createElement(\"script\");\n",
       "                    script.type = \"text/javascript\";\n",
       "                    script.src = \"https://cdn.jsdelivr.net/gh/JetBrains/lets-plot@v4.0.1/js-package/distr/lets-plot.min.js\";\n",
       "                    script.onload = function() {\n",
       "                        window.letsPlotCall = function(f) {f();};\n",
       "                        window.letsPlotCallQueue.forEach(function(f) {f();});\n",
       "                        window.letsPlotCallQueue = [];\n",
       "                        \n",
       "                    };\n",
       "                    script.onerror = function(event) {\n",
       "                        window.letsPlotCall = function(f) {};    // noop\n",
       "                        window.letsPlotCallQueue = [];\n",
       "                        var div = document.createElement(\"div\");\n",
       "                        div.style.color = 'darkred';\n",
       "                        div.textContent = 'Error loading Lets-Plot JS';\n",
       "                        document.getElementById(\"JrwVLe\").appendChild(div);\n",
       "                    };\n",
       "                    var e = document.getElementById(\"JrwVLe\");\n",
       "                    e.appendChild(script);\n",
       "                })()\n",
       "            </script>\n",
       "            "
      ]
     },
     "metadata": {},
     "output_type": "display_data"
    }
   ],
   "source": [
    "import gc\n",
    "from pathlib import Path\n",
    "from typing import List, Optional, Tuple\n",
    "import matplotlib.pyplot as plt\n",
    "\n",
    "\n",
    "import catboost\n",
    "import numpy as np\n",
    "import pandas as pd\n",
    "import shap\n",
    "from IPython.display import clear_output\n",
    "from lets_plot import *\n",
    "from lets_plot.mapping import as_discrete\n",
    "from sklearn import ensemble, impute, metrics, model_selection\n",
    "from tqdm import tqdm\n",
    "\n",
    "from data import pre_process, utils\n",
    "from models import train_model\n",
    "\n",
    "LetsPlot.setup_html()"
   ]
  },
  {
   "cell_type": "markdown",
   "id": "868b4a78-d34a-4eec-bc33-cc99a9129cb7",
   "metadata": {},
   "source": [
    "**Objective**:\n",
    "\n",
    "\n",
    "1. **Cross-validation**: Implement a robust cross-validation strategy to assess our model's performance accurately and consistently across multiple folds of the data.\n",
    "2. **Outlier Identification**: Identify and scrutinize potential outliers within our dataset. This step is crucial to ensure that outliers don't unduly influence our model's predictions.\n",
    "3. **Feature Engineering**: Continue refining and expanding our feature engineering efforts. We'll explore new ways to create informative features that enhance our model's predictive capabilities.\n",
    "\n"
   ]
  },
  {
   "cell_type": "markdown",
   "id": "86846c91-1d46-4c2e-8fb2-72f5c5b8e8fd",
   "metadata": {},
   "source": [
    "# Prepare dataframe before modelling\n",
    "## Read in dataframe\n"
   ]
  },
  {
   "cell_type": "code",
   "execution_count": 2,
   "id": "72d6ba3f-01d0-4f8d-9a08-1c3d99c01210",
   "metadata": {},
   "outputs": [],
   "source": [
    "df = pd.read_parquet(\n",
    "    utils.Configuration.INTERIM_DATA_PATH.joinpath(\n",
    "        \"2023-10-01_Processed_dataset_for_NB_use.parquet.gzip\"\n",
    "    )\n",
    ")"
   ]
  },
  {
   "cell_type": "code",
   "execution_count": 3,
   "id": "d5ad608f-e618-4753-ae85-5ee5d94dd62f",
   "metadata": {},
   "outputs": [],
   "source": [
    "def prepare_data_for_modelling(df: pd.DataFrame) -> Tuple[pd.DataFrame, pd.Series]:\n",
    "    \"\"\"\n",
    "    Prepare data for machine learning modeling.\n",
    "\n",
    "    This function takes a DataFrame and prepares it for machine learning by performing the following steps:\n",
    "    1. Randomly shuffles the rows of the DataFrame.\n",
    "    2. Converts the 'price' column to the base 10 logarithm.\n",
    "    3. Fills missing values in categorical variables with 'missing value'.\n",
    "    4. Separates the features (X) and the target (y).\n",
    "\n",
    "    Parameters:\n",
    "    - df (pd.DataFrame): The input DataFrame containing the dataset.\n",
    "\n",
    "    Returns:\n",
    "    - Tuple[pd.DataFrame, pd.Series]: A tuple containing the prepared features (X) and the target (y).\n",
    "\n",
    "    Example use case:\n",
    "    ```python\n",
    "    # Load your dataset into a DataFrame (e.g., df)\n",
    "    df = load_data()\n",
    "\n",
    "    # Prepare the data for modeling\n",
    "    X, y = prepare_data_for_modelling(df)\n",
    "\n",
    "    # Now you can use X and y for machine learning tasks.\n",
    "    ```\n",
    "    \"\"\"\n",
    "\n",
    "    processed_df = (\n",
    "        df.sample(frac=1, random_state=utils.Configuration.seed)\n",
    "        .reset_index(drop=True)\n",
    "        .assign(price=lambda df: np.log10(df.price))\n",
    "    )\n",
    "\n",
    "    # Fill missing categorical variables with \"missing value\"\n",
    "    for col in processed_df.columns:\n",
    "        if processed_df[col].dtype.name in (\"bool\", \"object\", \"category\"):\n",
    "            processed_df[col] = processed_df[col].fillna(\"missing value\")\n",
    "\n",
    "    # Separate features (X) and target (y)\n",
    "    X = processed_df.loc[:, utils.Configuration.features_to_keep]\n",
    "    y = processed_df[utils.Configuration.target_col]\n",
    "\n",
    "    print(f\"Shape of X and y: {X.shape}, {y.shape}\")\n",
    "\n",
    "    return X, y"
   ]
  },
  {
   "cell_type": "code",
   "execution_count": 4,
   "id": "5cd828f2-657c-49d9-96d3-7a731a64d95f",
   "metadata": {},
   "outputs": [
    {
     "name": "stdout",
     "output_type": "stream",
     "text": [
      "Shape of X and y: (3660, 16), (3660,)\n"
     ]
    }
   ],
   "source": [
    "X, y = pre_process.prepare_data_for_modelling(df)"
   ]
  },
  {
   "cell_type": "markdown",
   "id": "0a41246a-6d05-4a07-990e-c4a82a556912",
   "metadata": {},
   "source": [
    "# Cross-validation"
   ]
  },
  {
   "cell_type": "code",
   "execution_count": 5,
   "id": "fd6b5995-8d42-4139-8795-c29d7c258151",
   "metadata": {},
   "outputs": [],
   "source": [
    "def run_catboost_CV(\n",
    "    X: pd.DataFrame,\n",
    "    y: pd.Series,\n",
    "    n_splits: int = 2,\n",
    "    n_repeats: int = 1,\n",
    "    pipeline: Optional[object] = None,\n",
    ") -> Tuple[float, float]:\n",
    "    \"\"\"\n",
    "    Perform Cross-Validation with CatBoost for regression.\n",
    "\n",
    "    This function conducts Cross-Validation using CatBoost for regression tasks. It iterates\n",
    "    through folds, trains CatBoost models, and computes the mean and standard deviation of the\n",
    "    Root Mean Squared Error (RMSE) scores across folds.\n",
    "\n",
    "    Parameters:\n",
    "    - X (pd.DataFrame): The feature matrix.\n",
    "    - y (pd.Series): The target variable.\n",
    "    - n_splits (int, optional): The number of splits in K-Fold cross-validation.\n",
    "      Defaults to 2.\n",
    "    - n_repeats (int, optional): The number of times the K-Fold cross-validation is repeated.\n",
    "      Defaults to 1.\n",
    "    - pipeline (object, optional): Optional data preprocessing pipeline. If provided,\n",
    "      it's applied to the data before training the model. Defaults to None.\n",
    "\n",
    "    Returns:\n",
    "    - Tuple[float, float]: A tuple containing the mean RMSE and standard deviation of RMSE\n",
    "      scores across cross-validation folds.\n",
    "\n",
    "    Example:\n",
    "    ```python\n",
    "    # Load your feature matrix (X) and target variable (y)\n",
    "    X, y = load_data()\n",
    "\n",
    "    # Perform Cross-Validation with CatBoost\n",
    "    mean_rmse, std_rmse = run_catboost_CV(X, y, n_splits=5, n_repeats=2, pipeline=data_pipeline)\n",
    "\n",
    "    print(f\"Mean RMSE: {mean_rmse:.4f}\")\n",
    "    print(f\"Standard Deviation of RMSE: {std_rmse:.4f}\")\n",
    "    ```\n",
    "\n",
    "    Notes:\n",
    "    - Ensure that the input data `X` and `y` are properly preprocessed and do not contain any\n",
    "      missing values.\n",
    "    - The function uses CatBoost for regression with optional data preprocessing via the `pipeline`.\n",
    "    - RMSE is a common metric for regression tasks, and lower values indicate better model\n",
    "      performance.\n",
    "    \"\"\"\n",
    "    results = []\n",
    "\n",
    "    # Extract feature names and data types\n",
    "    features = X.columns[~X.columns.str.contains(\"price\")]\n",
    "    numerical_features = X.select_dtypes(\"number\").columns.to_list()\n",
    "    categorical_features = X.select_dtypes(\"object\").columns.to_list()\n",
    "\n",
    "    # Create a K-Fold cross-validator\n",
    "    CV = model_selection.RepeatedKFold(\n",
    "        n_splits=n_splits, n_repeats=n_repeats, random_state=utils.Configuration.seed\n",
    "    )\n",
    "\n",
    "    for train_fold_index, val_fold_index in tqdm(CV.split(X)):\n",
    "        X_train_fold, X_val_fold = X.loc[train_fold_index], X.loc[val_fold_index]\n",
    "        y_train_fold, y_val_fold = y.loc[train_fold_index], y.loc[val_fold_index]\n",
    "\n",
    "        # Apply optional data preprocessing pipeline\n",
    "        if pipeline is not None:\n",
    "            X_train_fold = pipeline.fit_transform(X_train_fold)\n",
    "            X_val_fold = pipeline.transform(X_val_fold)\n",
    "\n",
    "        # Create CatBoost datasets\n",
    "        catboost_train = Pool(\n",
    "            X_train_fold,\n",
    "            y_train_fold,\n",
    "            cat_features=categorical_features,\n",
    "        )\n",
    "        catboost_valid = Pool(\n",
    "            X_val_fold,\n",
    "            y_val_fold,\n",
    "            cat_features=categorical_features,\n",
    "        )\n",
    "\n",
    "        # Initialize and train the CatBoost model\n",
    "        model = catboost.CatBoostRegressor(**utils.Configuration.catboost_params)\n",
    "        model.fit(\n",
    "            catboost_train,\n",
    "            eval_set=[catboost_valid],\n",
    "            early_stopping_rounds=utils.Configuration.early_stopping_round,\n",
    "            verbose=utils.Configuration.verbose,\n",
    "            use_best_model=True,\n",
    "        )\n",
    "\n",
    "        # Calculate OOF validation predictions\n",
    "        valid_pred = model.predict(X_val_fold)\n",
    "\n",
    "        RMSE_score = metrics.mean_squared_error(y_val_fold, valid_pred, squared=False)\n",
    "\n",
    "        results.append(RMSE_score)\n",
    "\n",
    "    return np.mean(results), np.std(results)"
   ]
  },
  {
   "cell_type": "markdown",
   "id": "1a5fcc63-8794-448a-801c-a0aadebd3e70",
   "metadata": {},
   "source": [
    "\n",
    "::: {.callout-note}\r",
    "Please note that we reduced the number of iterations here in comparison to Notebook 4, in order to reduce the training time.:NB4 :  iterations = 1000, learning rate = default == 0.03\n",
    "NB5 : iterations = 100, learning rate = 0.2\n",
    "`.\r\n",
    ":::"
   ]
  },
  {
   "cell_type": "code",
   "execution_count": 6,
   "id": "45fee9ec-c1d7-4768-ad35-e94dc7eeddac",
   "metadata": {
    "scrolled": true
   },
   "outputs": [
    {
     "name": "stderr",
     "output_type": "stream",
     "text": [
      "10it [00:49,  4.93s/it]\n"
     ]
    },
    {
     "data": {
      "text/plain": [
       "(0.11264123385419991, 0.005418341119823515)"
      ]
     },
     "execution_count": 6,
     "metadata": {},
     "output_type": "execute_result"
    }
   ],
   "source": [
    "train_model.run_catboost_CV(X, y)"
   ]
  },
  {
   "cell_type": "code",
   "execution_count": null,
   "id": "084abe52-dc1d-48ea-8b38-dc739bf1c36d",
   "metadata": {},
   "outputs": [],
   "source": []
  },
  {
   "cell_type": "markdown",
   "id": "d79cbf62-00d5-43c4-9ac8-ba177c929181",
   "metadata": {},
   "source": [
    " * 0.05 = 0.1266\n",
    " * 0.1 = 0.1177\n",
    " * 0.15 = 0.1139\n",
    " * 0.2 = 0.1125\n",
    " * 0.25 = 0.1126"
   ]
  },
  {
   "cell_type": "markdown",
   "id": "3599ee01-ccb6-4af9-bb91-02f38920da6d",
   "metadata": {},
   "source": [
    "# Isolation forest"
   ]
  },
  {
   "cell_type": "code",
   "execution_count": 48,
   "id": "6b552446-973d-418e-836f-15b9129e6834",
   "metadata": {},
   "outputs": [
    {
     "data": {
      "text/plain": [
       "<matplotlib.collections.PathCollection at 0x1682f3ff9a0>"
      ]
     },
     "execution_count": 48,
     "metadata": {},
     "output_type": "execute_result"
    },
    {
     "data": {
      "image/png": "[encoded data removed]",
      "text/plain": [
       "<Figure size 640x480 with 1 Axes>"
      ]
     },
     "metadata": {},
     "output_type": "display_data"
    }
   ],
   "source": [
    "import matplotlib.pyplot as plt\n",
    "\n",
    "plt.scatter(\n",
    "    X.loc[:, \"living_area\"], X.loc[:, \"cadastral_income\"], c=y, s=20, edgecolor=\"k\", alpha=0.5\n",
    ")"
   ]
  },
  {
   "cell_type": "code",
   "execution_count": 49,
   "id": "c9748c03-03bc-4874-922e-e47befd1e7a1",
   "metadata": {},
   "outputs": [
    {
     "data": {
      "text/html": [
       "<style>#sk-container-id-4 {color: black;}#sk-container-id-4 pre{padding: 0;}#sk-container-id-4 div.sk-toggleable {background-color: white;}#sk-container-id-4 label.sk-toggleable__label {cursor: pointer;display: block;width: 100%;margin-bottom: 0;padding: 0.3em;box-sizing: border-box;text-align: center;}#sk-container-id-4 label.sk-toggleable__label-arrow:before {content: \"▸\";float: left;margin-right: 0.25em;color: #696969;}#sk-container-id-4 label.sk-toggleable__label-arrow:hover:before {color: black;}#sk-container-id-4 div.sk-estimator:hover label.sk-toggleable__label-arrow:before {color: black;}#sk-container-id-4 div.sk-toggleable__content {max-height: 0;max-width: 0;overflow: hidden;text-align: left;background-color: #f0f8ff;}#sk-container-id-4 div.sk-toggleable__content pre {margin: 0.2em;color: black;border-radius: 0.25em;background-color: #f0f8ff;}#sk-container-id-4 input.sk-toggleable__control:checked~div.sk-toggleable__content {max-height: 200px;max-width: 100%;overflow: auto;}#sk-container-id-4 input.sk-toggleable__control:checked~label.sk-toggleable__label-arrow:before {content: \"▾\";}#sk-container-id-4 div.sk-estimator input.sk-toggleable__control:checked~label.sk-toggleable__label {background-color: #d4ebff;}#sk-container-id-4 div.sk-label input.sk-toggleable__control:checked~label.sk-toggleable__label {background-color: #d4ebff;}#sk-container-id-4 input.sk-hidden--visually {border: 0;clip: rect(1px 1px 1px 1px);clip: rect(1px, 1px, 1px, 1px);height: 1px;margin: -1px;overflow: hidden;padding: 0;position: absolute;width: 1px;}#sk-container-id-4 div.sk-estimator {font-family: monospace;background-color: #f0f8ff;border: 1px dotted black;border-radius: 0.25em;box-sizing: border-box;margin-bottom: 0.5em;}#sk-container-id-4 div.sk-estimator:hover {background-color: #d4ebff;}#sk-container-id-4 div.sk-parallel-item::after {content: \"\";width: 100%;border-bottom: 1px solid gray;flex-grow: 1;}#sk-container-id-4 div.sk-label:hover label.sk-toggleable__label {background-color: #d4ebff;}#sk-container-id-4 div.sk-serial::before {content: \"\";position: absolute;border-left: 1px solid gray;box-sizing: border-box;top: 0;bottom: 0;left: 50%;z-index: 0;}#sk-container-id-4 div.sk-serial {display: flex;flex-direction: column;align-items: center;background-color: white;padding-right: 0.2em;padding-left: 0.2em;position: relative;}#sk-container-id-4 div.sk-item {position: relative;z-index: 1;}#sk-container-id-4 div.sk-parallel {display: flex;align-items: stretch;justify-content: center;background-color: white;position: relative;}#sk-container-id-4 div.sk-item::before, #sk-container-id-4 div.sk-parallel-item::before {content: \"\";position: absolute;border-left: 1px solid gray;box-sizing: border-box;top: 0;bottom: 0;left: 50%;z-index: -1;}#sk-container-id-4 div.sk-parallel-item {display: flex;flex-direction: column;z-index: 1;position: relative;background-color: white;}#sk-container-id-4 div.sk-parallel-item:first-child::after {align-self: flex-end;width: 50%;}#sk-container-id-4 div.sk-parallel-item:last-child::after {align-self: flex-start;width: 50%;}#sk-container-id-4 div.sk-parallel-item:only-child::after {width: 0;}#sk-container-id-4 div.sk-dashed-wrapped {border: 1px dashed gray;margin: 0 0.4em 0.5em 0.4em;box-sizing: border-box;padding-bottom: 0.4em;background-color: white;}#sk-container-id-4 div.sk-label label {font-family: monospace;font-weight: bold;display: inline-block;line-height: 1.2em;}#sk-container-id-4 div.sk-label-container {text-align: center;}#sk-container-id-4 div.sk-container {/* jupyter's `normalize.less` sets `[hidden] { display: none; }` but bootstrap.min.css set `[hidden] { display: none !important; }` so we also need the `!important` here to be able to override the default hidden behavior on the sphinx rendered scikit-learn.org. See: https://github.com/scikit-learn/scikit-learn/issues/21755 */display: inline-block !important;position: relative;}#sk-container-id-4 div.sk-text-repr-fallback {display: none;}</style><div id=\"sk-container-id-4\" class=\"sk-top-container\"><div class=\"sk-text-repr-fallback\"><pre>IsolationForest(max_samples=100, random_state=0)</pre><b>In a Jupyter environment, please rerun this cell to show the HTML representation or trust the notebook. <br />On GitHub, the HTML representation is unable to render, please try loading this page with nbviewer.org.</b></div><div class=\"sk-container\" hidden><div class=\"sk-item\"><div class=\"sk-estimator sk-toggleable\"><input class=\"sk-toggleable__control sk-hidden--visually\" id=\"sk-estimator-id-4\" type=\"checkbox\" checked><label for=\"sk-estimator-id-4\" class=\"sk-toggleable__label sk-toggleable__label-arrow\">IsolationForest</label><div class=\"sk-toggleable__content\"><pre>IsolationForest(max_samples=100, random_state=0)</pre></div></div></div></div></div>"
      ],
      "text/plain": [
       "IsolationForest(max_samples=100, random_state=0)"
      ]
     },
     "execution_count": 49,
     "metadata": {},
     "output_type": "execute_result"
    }
   ],
   "source": [
    "X_numeric = X.select_dtypes(\"number\")\n",
    "\n",
    "imputer = impute.SimpleImputer(missing_values=np.nan, strategy=\"median\").set_output(\n",
    "    transform=\"pandas\"\n",
    ")\n",
    "X_numeric = imputer.fit_transform(X_numeric)\n",
    "\n",
    "clf = ensemble.IsolationForest(max_samples=100, random_state=0)\n",
    "clf.fit(X_numeric)"
   ]
  },
  {
   "cell_type": "code",
   "execution_count": 50,
   "id": "b48f6606-19f3-48f5-9897-1d2fa406ed26",
   "metadata": {},
   "outputs": [
    {
     "data": {
      "text/plain": [
       "381"
      ]
     },
     "execution_count": 50,
     "metadata": {},
     "output_type": "execute_result"
    }
   ],
   "source": [
    "y_pred = clf.predict(X_numeric)\n",
    "y_pred_adjusted = [1 if x == -1 else 0 for x in y_pred]\n",
    "sum(y_pred_adjusted)"
   ]
  },
  {
   "cell_type": "markdown",
   "id": "9da816c4-9ad0-4fe7-9f02-5a37bcd8e976",
   "metadata": {},
   "source": [
    "# Feature Engineering"
   ]
  },
  {
   "cell_type": "markdown",
   "id": "7e2eeb41-f68a-4f0f-965a-b2054e5d1969",
   "metadata": {},
   "source": [
    "**SOME IDEAS**\n",
    "\n",
    "1. **Categorical Features:**\n",
    "   - Encode categorical variables like \"state,\" \"kitchen_type,\" \"building_condition,\" and \"city\" using one-hot encoding or label encoding.\n",
    "\n",
    "2. **Geospatial Features:**\n",
    "   - Calculate the distance from each apartment to key locations in the city (e.g., city center, schools, parks, public transportation) using \"lat\" and \"lng.\"\n",
    "   - Create clusters or neighborhoods based on the latitude and longitude coordinates (lat, lng) to capture the regional effect on prices.\n",
    "\n",
    "3. **Spatial Features:**\n",
    "   - Explore the \"number_of_frontages\" and how it affects property prices. You could categorize this variable or use it as a numerical feature.\n",
    "\n",
    "4. **Area-related Features:**\n",
    "   - Calculate the ratio of \"living_area\" to \"surface_of_the_plot\" to get an idea of the density or spaciousness of the property.\n",
    "   - Create bins or categories for \"living_area\" and \"surface_of_the_plot\" to capture different property sizes.\n",
    "\n",
    "5. **Energy Efficiency Features:**\n",
    "   - Compute the energy efficiency ratio by dividing \"yearly_theoretical_total_energy_consumption\" by \"primary_energy_consumption.\"\n",
    "   - Normalize energy-related features to have a similar scale if they are measured in different units.\n",
    "\n",
    "6. **Toilet and Bathroom Features:**\n",
    "   - Combine \"toilets\" and \"bathrooms\" into a single \"total_bathrooms\" feature to simplify the model.\n",
    "\n",
    "7. **Parking Features:**\n",
    "   - If parking information is available, create binary features indicating the presence of covered or uncovered parking spaces.\n",
    "\n",
    "8. **Taxation Features:**\n",
    "   - Incorporate \"cadastral_income\" as a measure of property value for taxation. You can create bins or categories for this variable.\n",
    "\n",
    "9. **Combining Features:**\n",
    "   - Experiment with interactions and products of different features to capture complex relationships. For instance, you could multiply \"living_area\" by \"cadastral_income\" to get a new feature.\n",
    "  \n",
    "10. \r\n",
    "TODO : \r\n",
    "\r\n",
    "Feature engineering:\r\n",
    "- use EJ categorical column for groupby/transform\r\n",
    "- create bins from continous data and groupby/transform : sklearn.preprocessing.KBinsDiscretizer\r\n",
    "- create column that has flags where missing values present : sklearn.impute.MissingIndicator\r\n",
    "- interons\r\n",
    "'''\n"
   ]
  }
 ],
 "metadata": {
  "kernelspec": {
   "display_name": "Python 3 (ipykernel)",
   "language": "python",
   "name": "python3"
  },
  "language_info": {
   "codemirror_mode": {
    "name": "ipython",
    "version": 3
   },
   "file_extension": ".py",
   "mimetype": "text/x-python",
   "name": "python",
   "nbconvert_exporter": "python",
   "pygments_lexer": "ipython3",
   "version": "3.10.12"
  },
  "toc-autonumbering": false,
  "toc-showcode": false,
  "toc-showmarkdowntxt": false,
  "varInspector": {
   "cols": {
    "lenName": 16,
    "lenType": 16,
    "lenVar": 40
   },
   "kernels_config": {
    "python": {
     "delete_cmd_postfix": "",
     "delete_cmd_prefix": "del ",
     "library": "var_list.py",
     "varRefreshCmd": "print(var_dic_list())"
    },
    "r": {
     "delete_cmd_postfix": ") ",
     "delete_cmd_prefix": "rm(",
     "library": "var_list.r",
     "varRefreshCmd": "cat(var_dic_list()) "
    }
   },
   "types_to_exclude": [
    "module",
    "function",
    "builtin_function_or_method",
    "instance",
    "_Feature"
   ],
   "window_display": false
  }
 },
 "nbformat": 4,
 "nbformat_minor": 5
}
