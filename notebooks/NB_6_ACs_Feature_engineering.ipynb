{
 "cells": [
  {
   "cell_type": "raw",
   "id": "ecb309f7",
   "metadata": {},
   "source": [
    "---\n",
    "title: 'Predicting Belgian Real Estate Prices: Part 6: Feature Engineering'\n",
    "author: Adam Cseresznye\n",
    "date: '2023-09-17'\n",
    "categories:\n",
    "  - Predicting Belgian Real Estate Prices \n",
    "jupyter: python3\n",
    "toc: true\n",
    "format:\n",
    "  html:\n",
    "    code-fold: true\n",
    "    code-tools: true\n",
    "---"
   ]
  },
  {
   "cell_type": "markdown",
   "id": "aab5a692-e95d-4785-8d85-ed1cc10b4056",
   "metadata": {
    "tags": []
   },
   "source": [
    "![Photo by Stephen Phillips - Hostreviews.co.uk on UnSplash](https://cf.bstatic.com/xdata/images/hotel/max1024x768/408003083.jpg?k=c49b5c4a2346b3ab002b9d1b22dbfb596cee523b53abef2550d0c92d0faf2d8b&o=&hp=1){fig-align=\"center\" width=50%}\n"
   ]
  },
  {
   "cell_type": "markdown",
   "id": "7af189aa",
   "metadata": {},
   "source": [
    "# Import data"
   ]
  },
  {
   "cell_type": "code",
   "execution_count": 1,
   "id": "cc3c6a54-530c-4491-bb08-3dfc054d78a6",
   "metadata": {
    "editable": true,
    "slideshow": {
     "slide_type": ""
    },
    "tags": []
   },
   "outputs": [
    {
     "name": "stderr",
     "output_type": "stream",
     "text": [
      "Using `tqdm.autonotebook.tqdm` in notebook mode. Use `tqdm.tqdm` instead to force console mode (e.g. in jupyter console)\n"
     ]
    },
    {
     "data": {
      "text/html": [
       "\n",
       "            <div id=\"4ZsqWu\"></div>\n",
       "            <script type=\"text/javascript\" data-lets-plot-script=\"library\">\n",
       "                if(!window.letsPlotCallQueue) {\n",
       "                    window.letsPlotCallQueue = [];\n",
       "                }; \n",
       "                window.letsPlotCall = function(f) {\n",
       "                    window.letsPlotCallQueue.push(f);\n",
       "                };\n",
       "                (function() {\n",
       "                    var script = document.createElement(\"script\");\n",
       "                    script.type = \"text/javascript\";\n",
       "                    script.src = \"https://cdn.jsdelivr.net/gh/JetBrains/lets-plot@v4.0.1/js-package/distr/lets-plot.min.js\";\n",
       "                    script.onload = function() {\n",
       "                        window.letsPlotCall = function(f) {f();};\n",
       "                        window.letsPlotCallQueue.forEach(function(f) {f();});\n",
       "                        window.letsPlotCallQueue = [];\n",
       "                        \n",
       "                    };\n",
       "                    script.onerror = function(event) {\n",
       "                        window.letsPlotCall = function(f) {};    // noop\n",
       "                        window.letsPlotCallQueue = [];\n",
       "                        var div = document.createElement(\"div\");\n",
       "                        div.style.color = 'darkred';\n",
       "                        div.textContent = 'Error loading Lets-Plot JS';\n",
       "                        document.getElementById(\"4ZsqWu\").appendChild(div);\n",
       "                    };\n",
       "                    var e = document.getElementById(\"4ZsqWu\");\n",
       "                    e.appendChild(script);\n",
       "                })()\n",
       "            </script>\n",
       "            "
      ]
     },
     "metadata": {},
     "output_type": "display_data"
    }
   ],
   "source": [
    "from pathlib import Path\n",
    "\n",
    "import catboost\n",
    "import numpy as np\n",
    "import pandas as pd\n",
    "import shap\n",
    "from data import pre_process, utils\n",
    "from IPython.display import clear_output\n",
    "from lets_plot import *\n",
    "from lets_plot.mapping import as_discrete\n",
    "from models import train_model\n",
    "from sklearn import metrics, model_selection\n",
    "from tqdm import tqdm\n",
    "\n",
    "LetsPlot.setup_html()"
   ]
  },
  {
   "cell_type": "markdown",
   "id": "868b4a78-d34a-4eec-bc33-cc99a9129cb7",
   "metadata": {},
   "source": [
    "**Objective**:\n",
    "\n",
    "\n",
    "1. **Cross-validation**: Implement a robust cross-validation strategy to assess our model's performance accurately and consistently across multiple folds of the data.\n",
    "2. **Outlier Identification**: Identify and scrutinize potential outliers within our dataset. This step is crucial to ensure that outliers don't unduly influence our model's predictions.\n",
    "3. **Feature Engineering**: Continue refining and expanding our feature engineering efforts. We'll explore new ways to create informative features that enhance our model's predictive capabilities.\n",
    "\n"
   ]
  },
  {
   "cell_type": "markdown",
   "id": "86846c91-1d46-4c2e-8fb2-72f5c5b8e8fd",
   "metadata": {},
   "source": [
    "# Prepare dataframe before modelling\n",
    "## Read in dataframe\n"
   ]
  },
  {
   "cell_type": "code",
   "execution_count": 2,
   "id": "72d6ba3f-01d0-4f8d-9a08-1c3d99c01210",
   "metadata": {},
   "outputs": [],
   "source": [
    "df = pd.read_parquet(\n",
    "    utils.Configuration.INTERIM_DATA_PATH.joinpath(\n",
    "        \"2023-10-01_Processed_dataset_for_NB_use.parquet.gzip\"\n",
    "    )\n",
    ")"
   ]
  },
  {
   "cell_type": "markdown",
   "id": "0a41246a-6d05-4a07-990e-c4a82a556912",
   "metadata": {},
   "source": [
    "# Cross-validation"
   ]
  },
  {
   "cell_type": "code",
   "execution_count": 17,
   "id": "d86f1ff7-7a1b-4c33-96e8-2b2f6f09ea96",
   "metadata": {},
   "outputs": [
    {
     "name": "stdout",
     "output_type": "stream",
     "text": [
      "Shape of X and y: (2928, 17), (2928,)\n"
     ]
    }
   ],
   "source": [
    "pre_processed_df = pre_process.prepare_data_for_modelling(train)"
   ]
  },
  {
   "cell_type": "markdown",
   "id": "9da816c4-9ad0-4fe7-9f02-5a37bcd8e976",
   "metadata": {},
   "source": [
    "# Feature Engineering"
   ]
  },
  {
   "cell_type": "markdown",
   "id": "7e2eeb41-f68a-4f0f-965a-b2054e5d1969",
   "metadata": {},
   "source": [
    "**SOME IDEAS**\n",
    "\n",
    "1. **Categorical Features:**\n",
    "   - Encode categorical variables like \"state,\" \"kitchen_type,\" \"building_condition,\" and \"city\" using one-hot encoding or label encoding.\n",
    "\n",
    "2. **Geospatial Features:**\n",
    "   - Calculate the distance from each apartment to key locations in the city (e.g., city center, schools, parks, public transportation) using \"lat\" and \"lng.\"\n",
    "   - Create clusters or neighborhoods based on the latitude and longitude coordinates (lat, lng) to capture the regional effect on prices.\n",
    "\n",
    "3. **Spatial Features:**\n",
    "   - Explore the \"number_of_frontages\" and how it affects property prices. You could categorize this variable or use it as a numerical feature.\n",
    "\n",
    "4. **Area-related Features:**\n",
    "   - Calculate the ratio of \"living_area\" to \"surface_of_the_plot\" to get an idea of the density or spaciousness of the property.\n",
    "   - Create bins or categories for \"living_area\" and \"surface_of_the_plot\" to capture different property sizes.\n",
    "\n",
    "5. **Energy Efficiency Features:**\n",
    "   - Compute the energy efficiency ratio by dividing \"yearly_theoretical_total_energy_consumption\" by \"primary_energy_consumption.\"\n",
    "   - Normalize energy-related features to have a similar scale if they are measured in different units.\n",
    "\n",
    "6. **Toilet and Bathroom Features:**\n",
    "   - Combine \"toilets\" and \"bathrooms\" into a single \"total_bathrooms\" feature to simplify the model.\n",
    "\n",
    "7. **Parking Features:**\n",
    "   - If parking information is available, create binary features indicating the presence of covered or uncovered parking spaces.\n",
    "\n",
    "8. **Taxation Features:**\n",
    "   - Incorporate \"cadastral_income\" as a measure of property value for taxation. You can create bins or categories for this variable.\n",
    "\n",
    "9. **Combining Features:**\n",
    "   - Experiment with interactions and products of different features to capture complex relationships. For instance, you could multiply \"living_area\" by \"cadastral_income\" to get a new feature.\n"
   ]
  }
 ],
 "metadata": {
  "kernelspec": {
   "display_name": "Python 3 (ipykernel)",
   "language": "python",
   "name": "python3"
  },
  "language_info": {
   "codemirror_mode": {
    "name": "ipython",
    "version": 3
   },
   "file_extension": ".py",
   "mimetype": "text/x-python",
   "name": "python",
   "nbconvert_exporter": "python",
   "pygments_lexer": "ipython3",
   "version": "3.10.12"
  },
  "toc-autonumbering": false,
  "toc-showcode": false,
  "toc-showmarkdowntxt": false,
  "varInspector": {
   "cols": {
    "lenName": 16,
    "lenType": 16,
    "lenVar": 40
   },
   "kernels_config": {
    "python": {
     "delete_cmd_postfix": "",
     "delete_cmd_prefix": "del ",
     "library": "var_list.py",
     "varRefreshCmd": "print(var_dic_list())"
    },
    "r": {
     "delete_cmd_postfix": ") ",
     "delete_cmd_prefix": "rm(",
     "library": "var_list.r",
     "varRefreshCmd": "cat(var_dic_list()) "
    }
   },
   "types_to_exclude": [
    "module",
    "function",
    "builtin_function_or_method",
    "instance",
    "_Feature"
   ],
   "window_display": false
  }
 },
 "nbformat": 4,
 "nbformat_minor": 5
}
